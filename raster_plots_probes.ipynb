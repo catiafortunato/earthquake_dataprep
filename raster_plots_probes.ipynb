{
 "cells": [
  {
   "cell_type": "code",
   "execution_count": 6,
   "metadata": {},
   "outputs": [],
   "source": [
    "import numpy as np\n",
    "import pandas as pd\n",
    "import sys\n",
    "import scipy.io\n",
    "import matplotlib.pyplot as plt\n",
    "import pyaldata as pyd"
   ]
  },
  {
   "cell_type": "markdown",
   "metadata": {},
   "source": [
    "# Load data "
   ]
  },
  {
   "cell_type": "code",
   "execution_count": 7,
   "metadata": {},
   "outputs": [],
   "source": [
    "dataset = 'M030_2024_04_12_09_40'\n",
    "mouse_id = 'M030'\n",
    "probe = '1'\n"
   ]
  },
  {
   "cell_type": "code",
   "execution_count": 8,
   "metadata": {},
   "outputs": [],
   "source": [
    "data_dir = '/data/mouse_data/processed/'+mouse_id+'/'+dataset+'/'+dataset+'_unit_df_probe_'+probe+'.mat'\n",
    "\n",
    "df_probe = pyd.mat2dataframe(data_dir, shift_idx_fields=False)\n"
   ]
  },
  {
   "cell_type": "code",
   "execution_count": 9,
   "metadata": {},
   "outputs": [
    {
     "data": {
      "text/html": [
       "<div>\n",
       "<style scoped>\n",
       "    .dataframe tbody tr th:only-of-type {\n",
       "        vertical-align: middle;\n",
       "    }\n",
       "\n",
       "    .dataframe tbody tr th {\n",
       "        vertical-align: top;\n",
       "    }\n",
       "\n",
       "    .dataframe thead th {\n",
       "        text-align: right;\n",
       "    }\n",
       "</style>\n",
       "<table border=\"1\" class=\"dataframe\">\n",
       "  <thead>\n",
       "    <tr style=\"text-align: right;\">\n",
       "      <th></th>\n",
       "      <th>cluster_id</th>\n",
       "      <th>KSLabel</th>\n",
       "      <th>best_channel</th>\n",
       "      <th>spike_times</th>\n",
       "    </tr>\n",
       "  </thead>\n",
       "  <tbody>\n",
       "    <tr>\n",
       "      <th>0</th>\n",
       "      <td>1</td>\n",
       "      <td>good</td>\n",
       "      <td>6</td>\n",
       "      <td>[594611, 682941, 915342, 1118507, 1208148, 121...</td>\n",
       "    </tr>\n",
       "    <tr>\n",
       "      <th>1</th>\n",
       "      <td>2</td>\n",
       "      <td>good</td>\n",
       "      <td>6</td>\n",
       "      <td>[29568, 112973, 188748, 243828, 248547, 327602...</td>\n",
       "    </tr>\n",
       "    <tr>\n",
       "      <th>2</th>\n",
       "      <td>6</td>\n",
       "      <td>good</td>\n",
       "      <td>9</td>\n",
       "      <td>[785914, 984244, 1227977, 1315539, 1361297, 13...</td>\n",
       "    </tr>\n",
       "    <tr>\n",
       "      <th>3</th>\n",
       "      <td>29</td>\n",
       "      <td>good</td>\n",
       "      <td>59</td>\n",
       "      <td>[33740, 81464, 91758, 112445, 121503, 127800, ...</td>\n",
       "    </tr>\n",
       "    <tr>\n",
       "      <th>4</th>\n",
       "      <td>47</td>\n",
       "      <td>good</td>\n",
       "      <td>78</td>\n",
       "      <td>[1183, 17336, 112003, 134614, 145037, 155271, ...</td>\n",
       "    </tr>\n",
       "  </tbody>\n",
       "</table>\n",
       "</div>"
      ],
      "text/plain": [
       "   cluster_id KSLabel  best_channel  \\\n",
       "0           1    good             6   \n",
       "1           2    good             6   \n",
       "2           6    good             9   \n",
       "3          29    good            59   \n",
       "4          47    good            78   \n",
       "\n",
       "                                         spike_times  \n",
       "0  [594611, 682941, 915342, 1118507, 1208148, 121...  \n",
       "1  [29568, 112973, 188748, 243828, 248547, 327602...  \n",
       "2  [785914, 984244, 1227977, 1315539, 1361297, 13...  \n",
       "3  [33740, 81464, 91758, 112445, 121503, 127800, ...  \n",
       "4  [1183, 17336, 112003, 134614, 145037, 155271, ...  "
      ]
     },
     "execution_count": 9,
     "metadata": {},
     "output_type": "execute_result"
    }
   ],
   "source": [
    "df_probe.head()"
   ]
  },
  {
   "cell_type": "markdown",
   "metadata": {},
   "source": [
    "# Plot quiet period  "
   ]
  },
  {
   "cell_type": "code",
   "execution_count": 10,
   "metadata": {},
   "outputs": [
    {
     "data": {
      "image/png": "[encoded data removed]",
      "text/plain": [
       "<Figure size 640x480 with 1 Axes>"
      ]
     },
     "metadata": {},
     "output_type": "display_data"
    }
   ],
   "source": [
    "# interval for plotting\n",
    "\n",
    "start_time = 24000\n",
    "end_time = 36000\n",
    "\n",
    "\n",
    "for i in df_probe.index:\n",
    "    spike_times = df_probe.loc[i,'spike_times']\n",
    "    spike_plot = spike_times[(spike_times>start_time)&(spike_times<end_time)]\n",
    "\n",
    "    plt.eventplot(spike_plot, lineoffsets=df_probe.loc[i,'best_channel'], color='black')\n",
    "    "
   ]
  },
  {
   "cell_type": "code",
   "execution_count": null,
   "metadata": {},
   "outputs": [],
   "source": []
  }
 ],
 "metadata": {
  "kernelspec": {
   "display_name": "quake",
   "language": "python",
   "name": "python3"
  },
  "language_info": {
   "codemirror_mode": {
    "name": "ipython",
    "version": 3
   },
   "file_extension": ".py",
   "mimetype": "text/x-python",
   "name": "python",
   "nbconvert_exporter": "python",
   "pygments_lexer": "ipython3",
   "version": "3.1.-1"
  }
 },
 "nbformat": 4,
 "nbformat_minor": 2
}
