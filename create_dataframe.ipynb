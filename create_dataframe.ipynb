{
 "cells": [
  {
   "cell_type": "code",
   "execution_count": 1,
   "metadata": {},
   "outputs": [],
   "source": [
    "import numpy as np\n",
    "import pandas as pd\n",
    "import sys\n",
    "import scipy.io\n",
    "import matplotlib.pyplot as plt\n",
    "from tools import * \n",
    "from utils import *"
   ]
  },
  {
   "cell_type": "markdown",
   "metadata": {},
   "source": [
    "# Choose dataset and mouse"
   ]
  },
  {
   "cell_type": "code",
   "execution_count": 29,
   "metadata": {},
   "outputs": [],
   "source": [
    "dataset = 'M030_2024_04_11_17_00'\n",
    "mouse_id = 'M030'\n"
   ]
  },
  {
   "cell_type": "markdown",
   "metadata": {},
   "source": [
    "# Load events data "
   ]
  },
  {
   "cell_type": "code",
   "execution_count": 30,
   "metadata": {},
   "outputs": [],
   "source": [
    "dir_to_events = '/data/mouse_data/processed/'+mouse_id+'/'+dataset+'/'+dataset+'_behav/'\n",
    "\n",
    "df_events = pd.read_csv(dir_to_events + dataset+'_events.csv')"
   ]
  },
  {
   "cell_type": "markdown",
   "metadata": {},
   "source": [
    " Subtract before camera trigger so that time 0 equals the first camera trigger :) \n"
   ]
  },
  {
   "cell_type": "code",
   "execution_count": 31,
   "metadata": {},
   "outputs": [],
   "source": [
    "df_events['time_shifted'] = df_events['time'] - df_events[df_events['name']=='before_camera_trigger'].time.values\n",
    "\n",
    "replacement_dict = {'0': 300, '1': 240, '2': 180, '3': 120, '4': 60, '5': 0} \n",
    "\n",
    "df_events['sol_direction'] = df_events['value'].map(replacement_dict)"
   ]
  },
  {
   "cell_type": "code",
   "execution_count": 32,
   "metadata": {},
   "outputs": [
    {
     "data": {
      "text/html": [
       "<div>\n",
       "<style scoped>\n",
       "    .dataframe tbody tr th:only-of-type {\n",
       "        vertical-align: middle;\n",
       "    }\n",
       "\n",
       "    .dataframe tbody tr th {\n",
       "        vertical-align: top;\n",
       "    }\n",
       "\n",
       "    .dataframe thead th {\n",
       "        text-align: right;\n",
       "    }\n",
       "</style>\n",
       "<table border=\"1\" class=\"dataframe\">\n",
       "  <thead>\n",
       "    <tr style=\"text-align: right;\">\n",
       "      <th></th>\n",
       "      <th>Unnamed: 0</th>\n",
       "      <th>type</th>\n",
       "      <th>name</th>\n",
       "      <th>time</th>\n",
       "      <th>duration</th>\n",
       "      <th>value</th>\n",
       "      <th>time_shifted</th>\n",
       "      <th>sol_direction</th>\n",
       "    </tr>\n",
       "  </thead>\n",
       "  <tbody>\n",
       "    <tr>\n",
       "      <th>0</th>\n",
       "      <td>0</td>\n",
       "      <td>info</td>\n",
       "      <td>Experiment name</td>\n",
       "      <td>NaN</td>\n",
       "      <td>NaN</td>\n",
       "      <td>run_task</td>\n",
       "      <td>NaN</td>\n",
       "      <td>NaN</td>\n",
       "    </tr>\n",
       "    <tr>\n",
       "      <th>1</th>\n",
       "      <td>1</td>\n",
       "      <td>info</td>\n",
       "      <td>Task name</td>\n",
       "      <td>NaN</td>\n",
       "      <td>NaN</td>\n",
       "      <td>earthquake-long</td>\n",
       "      <td>NaN</td>\n",
       "      <td>NaN</td>\n",
       "    </tr>\n",
       "    <tr>\n",
       "      <th>2</th>\n",
       "      <td>2</td>\n",
       "      <td>info</td>\n",
       "      <td>Task file hash</td>\n",
       "      <td>NaN</td>\n",
       "      <td>NaN</td>\n",
       "      <td>938686995</td>\n",
       "      <td>NaN</td>\n",
       "      <td>NaN</td>\n",
       "    </tr>\n",
       "    <tr>\n",
       "      <th>3</th>\n",
       "      <td>3</td>\n",
       "      <td>info</td>\n",
       "      <td>Setup ID</td>\n",
       "      <td>NaN</td>\n",
       "      <td>NaN</td>\n",
       "      <td>COM9</td>\n",
       "      <td>NaN</td>\n",
       "      <td>NaN</td>\n",
       "    </tr>\n",
       "    <tr>\n",
       "      <th>4</th>\n",
       "      <td>4</td>\n",
       "      <td>info</td>\n",
       "      <td>Subject ID</td>\n",
       "      <td>NaN</td>\n",
       "      <td>NaN</td>\n",
       "      <td>M030_2024_04_11_17_00</td>\n",
       "      <td>NaN</td>\n",
       "      <td>NaN</td>\n",
       "    </tr>\n",
       "  </tbody>\n",
       "</table>\n",
       "</div>"
      ],
      "text/plain": [
       "   Unnamed: 0  type              name  time  duration                  value  \\\n",
       "0           0  info  Experiment name    NaN       NaN               run_task   \n",
       "1           1  info         Task name   NaN       NaN        earthquake-long   \n",
       "2           2  info    Task file hash   NaN       NaN              938686995   \n",
       "3           3  info          Setup ID   NaN       NaN                   COM9   \n",
       "4           4  info        Subject ID   NaN       NaN  M030_2024_04_11_17_00   \n",
       "\n",
       "   time_shifted  sol_direction  \n",
       "0           NaN            NaN  \n",
       "1           NaN            NaN  \n",
       "2           NaN            NaN  \n",
       "3           NaN            NaN  \n",
       "4           NaN            NaN  "
      ]
     },
     "execution_count": 32,
     "metadata": {},
     "output_type": "execute_result"
    }
   ],
   "source": [
    "df_events.head()"
   ]
  },
  {
   "cell_type": "code",
   "execution_count": 33,
   "metadata": {},
   "outputs": [
    {
     "data": {
      "text/html": [
       "<div>\n",
       "<style scoped>\n",
       "    .dataframe tbody tr th:only-of-type {\n",
       "        vertical-align: middle;\n",
       "    }\n",
       "\n",
       "    .dataframe tbody tr th {\n",
       "        vertical-align: top;\n",
       "    }\n",
       "\n",
       "    .dataframe thead th {\n",
       "        text-align: right;\n",
       "    }\n",
       "</style>\n",
       "<table border=\"1\" class=\"dataframe\">\n",
       "  <thead>\n",
       "    <tr style=\"text-align: right;\">\n",
       "      <th></th>\n",
       "      <th>Unnamed: 0</th>\n",
       "      <th>type</th>\n",
       "      <th>name</th>\n",
       "      <th>time</th>\n",
       "      <th>duration</th>\n",
       "      <th>value</th>\n",
       "      <th>time_shifted</th>\n",
       "      <th>sol_direction</th>\n",
       "    </tr>\n",
       "  </thead>\n",
       "  <tbody>\n",
       "    <tr>\n",
       "      <th>1137</th>\n",
       "      <td>1137</td>\n",
       "      <td>print</td>\n",
       "      <td>Sol_direction</td>\n",
       "      <td>610013.0</td>\n",
       "      <td>NaN</td>\n",
       "      <td>3</td>\n",
       "      <td>610009.0</td>\n",
       "      <td>120.0</td>\n",
       "    </tr>\n",
       "    <tr>\n",
       "      <th>1145</th>\n",
       "      <td>1145</td>\n",
       "      <td>print</td>\n",
       "      <td>Sol_direction</td>\n",
       "      <td>613657.0</td>\n",
       "      <td>NaN</td>\n",
       "      <td>0</td>\n",
       "      <td>613653.0</td>\n",
       "      <td>300.0</td>\n",
       "    </tr>\n",
       "    <tr>\n",
       "      <th>1154</th>\n",
       "      <td>1154</td>\n",
       "      <td>print</td>\n",
       "      <td>Sol_direction</td>\n",
       "      <td>618827.0</td>\n",
       "      <td>NaN</td>\n",
       "      <td>3</td>\n",
       "      <td>618823.0</td>\n",
       "      <td>120.0</td>\n",
       "    </tr>\n",
       "    <tr>\n",
       "      <th>1178</th>\n",
       "      <td>1178</td>\n",
       "      <td>print</td>\n",
       "      <td>Sol_direction</td>\n",
       "      <td>629827.0</td>\n",
       "      <td>NaN</td>\n",
       "      <td>1</td>\n",
       "      <td>629823.0</td>\n",
       "      <td>240.0</td>\n",
       "    </tr>\n",
       "    <tr>\n",
       "      <th>1190</th>\n",
       "      <td>1190</td>\n",
       "      <td>print</td>\n",
       "      <td>Sol_direction</td>\n",
       "      <td>636167.0</td>\n",
       "      <td>NaN</td>\n",
       "      <td>4</td>\n",
       "      <td>636163.0</td>\n",
       "      <td>60.0</td>\n",
       "    </tr>\n",
       "    <tr>\n",
       "      <th>...</th>\n",
       "      <td>...</td>\n",
       "      <td>...</td>\n",
       "      <td>...</td>\n",
       "      <td>...</td>\n",
       "      <td>...</td>\n",
       "      <td>...</td>\n",
       "      <td>...</td>\n",
       "      <td>...</td>\n",
       "    </tr>\n",
       "    <tr>\n",
       "      <th>7596</th>\n",
       "      <td>7596</td>\n",
       "      <td>print</td>\n",
       "      <td>Sol_direction</td>\n",
       "      <td>3571685.0</td>\n",
       "      <td>NaN</td>\n",
       "      <td>0</td>\n",
       "      <td>3571681.0</td>\n",
       "      <td>300.0</td>\n",
       "    </tr>\n",
       "    <tr>\n",
       "      <th>7609</th>\n",
       "      <td>7609</td>\n",
       "      <td>print</td>\n",
       "      <td>Sol_direction</td>\n",
       "      <td>3582597.0</td>\n",
       "      <td>NaN</td>\n",
       "      <td>0</td>\n",
       "      <td>3582593.0</td>\n",
       "      <td>300.0</td>\n",
       "    </tr>\n",
       "    <tr>\n",
       "      <th>7621</th>\n",
       "      <td>7621</td>\n",
       "      <td>print</td>\n",
       "      <td>Sol_direction</td>\n",
       "      <td>3588737.0</td>\n",
       "      <td>NaN</td>\n",
       "      <td>5</td>\n",
       "      <td>3588733.0</td>\n",
       "      <td>0.0</td>\n",
       "    </tr>\n",
       "    <tr>\n",
       "      <th>7625</th>\n",
       "      <td>7625</td>\n",
       "      <td>print</td>\n",
       "      <td>Sol_direction</td>\n",
       "      <td>3591147.0</td>\n",
       "      <td>NaN</td>\n",
       "      <td>2</td>\n",
       "      <td>3591143.0</td>\n",
       "      <td>180.0</td>\n",
       "    </tr>\n",
       "    <tr>\n",
       "      <th>7635</th>\n",
       "      <td>7635</td>\n",
       "      <td>print</td>\n",
       "      <td>Sol_direction</td>\n",
       "      <td>3594864.0</td>\n",
       "      <td>NaN</td>\n",
       "      <td>0</td>\n",
       "      <td>3594860.0</td>\n",
       "      <td>300.0</td>\n",
       "    </tr>\n",
       "  </tbody>\n",
       "</table>\n",
       "<p>425 rows × 8 columns</p>\n",
       "</div>"
      ],
      "text/plain": [
       "      Unnamed: 0   type           name       time  duration value  \\\n",
       "1137        1137  print  Sol_direction   610013.0       NaN     3   \n",
       "1145        1145  print  Sol_direction   613657.0       NaN     0   \n",
       "1154        1154  print  Sol_direction   618827.0       NaN     3   \n",
       "1178        1178  print  Sol_direction   629827.0       NaN     1   \n",
       "1190        1190  print  Sol_direction   636167.0       NaN     4   \n",
       "...          ...    ...            ...        ...       ...   ...   \n",
       "7596        7596  print  Sol_direction  3571685.0       NaN     0   \n",
       "7609        7609  print  Sol_direction  3582597.0       NaN     0   \n",
       "7621        7621  print  Sol_direction  3588737.0       NaN     5   \n",
       "7625        7625  print  Sol_direction  3591147.0       NaN     2   \n",
       "7635        7635  print  Sol_direction  3594864.0       NaN     0   \n",
       "\n",
       "      time_shifted  sol_direction  \n",
       "1137      610009.0          120.0  \n",
       "1145      613653.0          300.0  \n",
       "1154      618823.0          120.0  \n",
       "1178      629823.0          240.0  \n",
       "1190      636163.0           60.0  \n",
       "...            ...            ...  \n",
       "7596     3571681.0          300.0  \n",
       "7609     3582593.0          300.0  \n",
       "7621     3588733.0            0.0  \n",
       "7625     3591143.0          180.0  \n",
       "7635     3594860.0          300.0  \n",
       "\n",
       "[425 rows x 8 columns]"
      ]
     },
     "execution_count": 33,
     "metadata": {},
     "output_type": "execute_result"
    }
   ],
   "source": [
    "df_events[df_events['name']=='Sol_direction']"
   ]
  },
  {
   "cell_type": "markdown",
   "metadata": {},
   "source": [
    "# Load behaviour (joint angles and keypoints)"
   ]
  },
  {
   "cell_type": "code",
   "execution_count": 34,
   "metadata": {},
   "outputs": [],
   "source": [
    "dir_to_key_points = '/data/mouse_data/processed/'+mouse_id+'/'+dataset+'/'+dataset+'_pose_estimation/'\n",
    "df_pose = pd.read_csv(dir_to_key_points + dataset+'_3dpts_angles.csv')"
   ]
  },
  {
   "cell_type": "code",
   "execution_count": 35,
   "metadata": {},
   "outputs": [],
   "source": [
    "list_of_keypoints = ['shoulder_center', 'left_shoulder', 'right_shoulder', 'left_paw', 'right_paw', 'left_elbow', 'right_elbow', 'hip_center', 'left_knee', 'right_knee',\n",
    "                     'left_ankle', 'right_ankle', 'tail_base', 'tail_middle', 'tail_tip', 'left_wrist', 'right_wrist']"
   ]
  },
  {
   "cell_type": "code",
   "execution_count": 36,
   "metadata": {},
   "outputs": [],
   "source": [
    "for joint in list_of_keypoints:\n",
    "    df_pose[joint+'_pos'] = df_pose.apply(lambda row: [row[joint+'_x'], row[joint+'_y'], row[joint+'_z']], axis=1)\n"
   ]
  },
  {
   "cell_type": "code",
   "execution_count": 37,
   "metadata": {},
   "outputs": [
    {
     "data": {
      "text/html": [
       "<div>\n",
       "<style scoped>\n",
       "    .dataframe tbody tr th:only-of-type {\n",
       "        vertical-align: middle;\n",
       "    }\n",
       "\n",
       "    .dataframe tbody tr th {\n",
       "        vertical-align: top;\n",
       "    }\n",
       "\n",
       "    .dataframe thead th {\n",
       "        text-align: right;\n",
       "    }\n",
       "</style>\n",
       "<table border=\"1\" class=\"dataframe\">\n",
       "  <thead>\n",
       "    <tr style=\"text-align: right;\">\n",
       "      <th></th>\n",
       "      <th>shoulder_center_x</th>\n",
       "      <th>shoulder_center_y</th>\n",
       "      <th>shoulder_center_z</th>\n",
       "      <th>left_shoulder_x</th>\n",
       "      <th>left_shoulder_y</th>\n",
       "      <th>left_shoulder_z</th>\n",
       "      <th>left_paw_x</th>\n",
       "      <th>left_paw_y</th>\n",
       "      <th>left_paw_z</th>\n",
       "      <th>right_shoulder_x</th>\n",
       "      <th>...</th>\n",
       "      <th>hip_center_pos</th>\n",
       "      <th>left_knee_pos</th>\n",
       "      <th>right_knee_pos</th>\n",
       "      <th>left_ankle_pos</th>\n",
       "      <th>right_ankle_pos</th>\n",
       "      <th>tail_base_pos</th>\n",
       "      <th>tail_middle_pos</th>\n",
       "      <th>tail_tip_pos</th>\n",
       "      <th>left_wrist_pos</th>\n",
       "      <th>right_wrist_pos</th>\n",
       "    </tr>\n",
       "  </thead>\n",
       "  <tbody>\n",
       "    <tr>\n",
       "      <th>0</th>\n",
       "      <td>22.438472</td>\n",
       "      <td>-12.563070</td>\n",
       "      <td>176.304964</td>\n",
       "      <td>14.883734</td>\n",
       "      <td>-5.285433</td>\n",
       "      <td>179.918816</td>\n",
       "      <td>18.217056</td>\n",
       "      <td>7.949677</td>\n",
       "      <td>180.372575</td>\n",
       "      <td>25.339992</td>\n",
       "      <td>...</td>\n",
       "      <td>[4.660734525812127, -5.514074384971747, 147.44...</td>\n",
       "      <td>[-1.0773753861689568, 3.734055550338129, 156.3...</td>\n",
       "      <td>[16.888541898297074, 0.2285686629167264, 151.8...</td>\n",
       "      <td>[-5.159648557175953, 5.613558509088712, 147.19...</td>\n",
       "      <td>[11.751064828136736, 8.028218556265886, 151.37...</td>\n",
       "      <td>[3.0106492371667195, -0.6724851345112693, 142....</td>\n",
       "      <td>[-8.96236834619256, -7.764141597814162, 127.40...</td>\n",
       "      <td>[-8.374855700759003, -21.595157765011468, 94.9...</td>\n",
       "      <td>[16.40575804751768, 6.370276362822087, 177.771...</td>\n",
       "      <td>[24.38845974320632, 3.65970446694452, 173.6833...</td>\n",
       "    </tr>\n",
       "    <tr>\n",
       "      <th>1</th>\n",
       "      <td>22.479162</td>\n",
       "      <td>-12.685833</td>\n",
       "      <td>176.334303</td>\n",
       "      <td>14.802492</td>\n",
       "      <td>-5.385494</td>\n",
       "      <td>179.553684</td>\n",
       "      <td>17.787448</td>\n",
       "      <td>8.148077</td>\n",
       "      <td>178.773330</td>\n",
       "      <td>25.262831</td>\n",
       "      <td>...</td>\n",
       "      <td>[4.342316070920497, -5.472798903669099, 147.40...</td>\n",
       "      <td>[-1.606844599630831, 3.880908717855736, 156.12...</td>\n",
       "      <td>[16.57764538087724, 0.5414207897794377, 151.40...</td>\n",
       "      <td>[-5.777663784218345, 5.97660243120238, 147.115...</td>\n",
       "      <td>[11.04939421887658, 8.122717144212576, 150.667...</td>\n",
       "      <td>[2.530373809339192, -0.5786491163708842, 142.4...</td>\n",
       "      <td>[-9.156276128865986, -7.825238062557887, 127.3...</td>\n",
       "      <td>[-7.941929248218016, -22.318307802895944, 95.3...</td>\n",
       "      <td>[16.123533073624824, 6.738416419782286, 175.99...</td>\n",
       "      <td>[24.42627136142289, 2.8794312093071546, 175.14...</td>\n",
       "    </tr>\n",
       "    <tr>\n",
       "      <th>2</th>\n",
       "      <td>22.536699</td>\n",
       "      <td>-12.765489</td>\n",
       "      <td>176.307517</td>\n",
       "      <td>14.735870</td>\n",
       "      <td>-5.539276</td>\n",
       "      <td>179.360435</td>\n",
       "      <td>17.314465</td>\n",
       "      <td>8.373970</td>\n",
       "      <td>177.253949</td>\n",
       "      <td>25.125483</td>\n",
       "      <td>...</td>\n",
       "      <td>[3.829150524222268, -5.622635113489613, 147.40...</td>\n",
       "      <td>[-1.776060459586256, 3.681009787954301, 156.46...</td>\n",
       "      <td>[15.861144568746578, 1.0075703409526182, 150.7...</td>\n",
       "      <td>[-6.141723115653456, 5.799766592616404, 147.62...</td>\n",
       "      <td>[9.25997599380643, 7.833287284198769, 149.6834...</td>\n",
       "      <td>[2.0379256535912504, -0.6964028509999058, 142....</td>\n",
       "      <td>[-9.538492312642802, -7.996961211023988, 127.2...</td>\n",
       "      <td>[-7.6529217813846335, -22.9888574957565, 95.58...</td>\n",
       "      <td>[15.71204199629658, 6.864031369264697, 174.501...</td>\n",
       "      <td>[24.824787503564863, 2.807870803846014, 176.13...</td>\n",
       "    </tr>\n",
       "    <tr>\n",
       "      <th>3</th>\n",
       "      <td>22.538444</td>\n",
       "      <td>-12.818086</td>\n",
       "      <td>176.323937</td>\n",
       "      <td>14.659918</td>\n",
       "      <td>-5.654130</td>\n",
       "      <td>179.304974</td>\n",
       "      <td>17.125875</td>\n",
       "      <td>8.541859</td>\n",
       "      <td>175.628185</td>\n",
       "      <td>24.847111</td>\n",
       "      <td>...</td>\n",
       "      <td>[3.2537200628025054, -5.851575774998009, 147.5...</td>\n",
       "      <td>[-1.2189247582609248, 2.7166905131419656, 157....</td>\n",
       "      <td>[15.162496488753291, 1.400931165734733, 149.69...</td>\n",
       "      <td>[-5.575733241708116, 4.173019369228094, 148.72...</td>\n",
       "      <td>[7.799542612478169, 7.235180018246395, 147.957...</td>\n",
       "      <td>[1.4019152878549306, -0.98636036285707, 142.57...</td>\n",
       "      <td>[-10.09260789091193, -8.302051010102625, 127.1...</td>\n",
       "      <td>[-7.714303313294215, -23.43929869979812, 95.70...</td>\n",
       "      <td>[15.113077275815582, 6.82840782941549, 173.311...</td>\n",
       "      <td>[25.03843529654576, 2.8550189789693885, 177.13...</td>\n",
       "    </tr>\n",
       "    <tr>\n",
       "      <th>4</th>\n",
       "      <td>22.455877</td>\n",
       "      <td>-12.834291</td>\n",
       "      <td>176.383604</td>\n",
       "      <td>14.409061</td>\n",
       "      <td>-5.800087</td>\n",
       "      <td>179.208046</td>\n",
       "      <td>17.068394</td>\n",
       "      <td>8.547443</td>\n",
       "      <td>173.830726</td>\n",
       "      <td>24.744682</td>\n",
       "      <td>...</td>\n",
       "      <td>[2.5490047873704462, -5.948872515180119, 147.9...</td>\n",
       "      <td>[-0.4987837615231775, 0.9192470484287312, 159....</td>\n",
       "      <td>[14.276321892957398, 1.7404176429560438, 148.4...</td>\n",
       "      <td>[-4.133750992619704, 2.9607544484765125, 150.3...</td>\n",
       "      <td>[6.497626498187048, 6.50592909473185, 145.1267...</td>\n",
       "      <td>[0.6716539848924961, -1.0010342762310631, 143....</td>\n",
       "      <td>[-10.725856136866277, -8.3524322953955, 127.42...</td>\n",
       "      <td>[-8.32165183588614, -23.58576033905076, 95.836...</td>\n",
       "      <td>[14.74051223702274, 6.56669482538489, 172.0922...</td>\n",
       "      <td>[25.060439555142903, 3.04080303668213, 178.020...</td>\n",
       "    </tr>\n",
       "  </tbody>\n",
       "</table>\n",
       "<p>5 rows × 138 columns</p>\n",
       "</div>"
      ],
      "text/plain": [
       "   shoulder_center_x  shoulder_center_y  shoulder_center_z  left_shoulder_x  \\\n",
       "0          22.438472         -12.563070         176.304964        14.883734   \n",
       "1          22.479162         -12.685833         176.334303        14.802492   \n",
       "2          22.536699         -12.765489         176.307517        14.735870   \n",
       "3          22.538444         -12.818086         176.323937        14.659918   \n",
       "4          22.455877         -12.834291         176.383604        14.409061   \n",
       "\n",
       "   left_shoulder_y  left_shoulder_z  left_paw_x  left_paw_y  left_paw_z  \\\n",
       "0        -5.285433       179.918816   18.217056    7.949677  180.372575   \n",
       "1        -5.385494       179.553684   17.787448    8.148077  178.773330   \n",
       "2        -5.539276       179.360435   17.314465    8.373970  177.253949   \n",
       "3        -5.654130       179.304974   17.125875    8.541859  175.628185   \n",
       "4        -5.800087       179.208046   17.068394    8.547443  173.830726   \n",
       "\n",
       "   right_shoulder_x  ...                                     hip_center_pos  \\\n",
       "0         25.339992  ...  [4.660734525812127, -5.514074384971747, 147.44...   \n",
       "1         25.262831  ...  [4.342316070920497, -5.472798903669099, 147.40...   \n",
       "2         25.125483  ...  [3.829150524222268, -5.622635113489613, 147.40...   \n",
       "3         24.847111  ...  [3.2537200628025054, -5.851575774998009, 147.5...   \n",
       "4         24.744682  ...  [2.5490047873704462, -5.948872515180119, 147.9...   \n",
       "\n",
       "                                       left_knee_pos  \\\n",
       "0  [-1.0773753861689568, 3.734055550338129, 156.3...   \n",
       "1  [-1.606844599630831, 3.880908717855736, 156.12...   \n",
       "2  [-1.776060459586256, 3.681009787954301, 156.46...   \n",
       "3  [-1.2189247582609248, 2.7166905131419656, 157....   \n",
       "4  [-0.4987837615231775, 0.9192470484287312, 159....   \n",
       "\n",
       "                                      right_knee_pos  \\\n",
       "0  [16.888541898297074, 0.2285686629167264, 151.8...   \n",
       "1  [16.57764538087724, 0.5414207897794377, 151.40...   \n",
       "2  [15.861144568746578, 1.0075703409526182, 150.7...   \n",
       "3  [15.162496488753291, 1.400931165734733, 149.69...   \n",
       "4  [14.276321892957398, 1.7404176429560438, 148.4...   \n",
       "\n",
       "                                      left_ankle_pos  \\\n",
       "0  [-5.159648557175953, 5.613558509088712, 147.19...   \n",
       "1  [-5.777663784218345, 5.97660243120238, 147.115...   \n",
       "2  [-6.141723115653456, 5.799766592616404, 147.62...   \n",
       "3  [-5.575733241708116, 4.173019369228094, 148.72...   \n",
       "4  [-4.133750992619704, 2.9607544484765125, 150.3...   \n",
       "\n",
       "                                     right_ankle_pos  \\\n",
       "0  [11.751064828136736, 8.028218556265886, 151.37...   \n",
       "1  [11.04939421887658, 8.122717144212576, 150.667...   \n",
       "2  [9.25997599380643, 7.833287284198769, 149.6834...   \n",
       "3  [7.799542612478169, 7.235180018246395, 147.957...   \n",
       "4  [6.497626498187048, 6.50592909473185, 145.1267...   \n",
       "\n",
       "                                       tail_base_pos  \\\n",
       "0  [3.0106492371667195, -0.6724851345112693, 142....   \n",
       "1  [2.530373809339192, -0.5786491163708842, 142.4...   \n",
       "2  [2.0379256535912504, -0.6964028509999058, 142....   \n",
       "3  [1.4019152878549306, -0.98636036285707, 142.57...   \n",
       "4  [0.6716539848924961, -1.0010342762310631, 143....   \n",
       "\n",
       "                                     tail_middle_pos  \\\n",
       "0  [-8.96236834619256, -7.764141597814162, 127.40...   \n",
       "1  [-9.156276128865986, -7.825238062557887, 127.3...   \n",
       "2  [-9.538492312642802, -7.996961211023988, 127.2...   \n",
       "3  [-10.09260789091193, -8.302051010102625, 127.1...   \n",
       "4  [-10.725856136866277, -8.3524322953955, 127.42...   \n",
       "\n",
       "                                        tail_tip_pos  \\\n",
       "0  [-8.374855700759003, -21.595157765011468, 94.9...   \n",
       "1  [-7.941929248218016, -22.318307802895944, 95.3...   \n",
       "2  [-7.6529217813846335, -22.9888574957565, 95.58...   \n",
       "3  [-7.714303313294215, -23.43929869979812, 95.70...   \n",
       "4  [-8.32165183588614, -23.58576033905076, 95.836...   \n",
       "\n",
       "                                      left_wrist_pos  \\\n",
       "0  [16.40575804751768, 6.370276362822087, 177.771...   \n",
       "1  [16.123533073624824, 6.738416419782286, 175.99...   \n",
       "2  [15.71204199629658, 6.864031369264697, 174.501...   \n",
       "3  [15.113077275815582, 6.82840782941549, 173.311...   \n",
       "4  [14.74051223702274, 6.56669482538489, 172.0922...   \n",
       "\n",
       "                                     right_wrist_pos  \n",
       "0  [24.38845974320632, 3.65970446694452, 173.6833...  \n",
       "1  [24.42627136142289, 2.8794312093071546, 175.14...  \n",
       "2  [24.824787503564863, 2.807870803846014, 176.13...  \n",
       "3  [25.03843529654576, 2.8550189789693885, 177.13...  \n",
       "4  [25.060439555142903, 3.04080303668213, 178.020...  \n",
       "\n",
       "[5 rows x 138 columns]"
      ]
     },
     "execution_count": 37,
     "metadata": {},
     "output_type": "execute_result"
    }
   ],
   "source": [
    "df_pose.head()"
   ]
  },
  {
   "cell_type": "code",
   "execution_count": 38,
   "metadata": {},
   "outputs": [
    {
     "data": {
      "text/plain": [
       "420014"
      ]
     },
     "execution_count": 38,
     "metadata": {},
     "output_type": "execute_result"
    }
   ],
   "source": [
    "len(df_pose)"
   ]
  },
  {
   "cell_type": "markdown",
   "metadata": {},
   "source": [
    "# Load and process spike data"
   ]
  },
  {
   "cell_type": "code",
   "execution_count": 39,
   "metadata": {},
   "outputs": [],
   "source": [
    "probe_nb = '0'\n",
    "break_rec = 200\n",
    "str_motor_spikes, m1_spikes = load_spike_data(mouse_id, dataset,probe_nb,break_rec)\n",
    "\n"
   ]
  },
  {
   "cell_type": "code",
   "execution_count": 40,
   "metadata": {},
   "outputs": [
    {
     "data": {
      "text/plain": [
       "(114, 423050)"
      ]
     },
     "execution_count": 40,
     "metadata": {},
     "output_type": "execute_result"
    }
   ],
   "source": [
    "m1_spikes.shape"
   ]
  },
  {
   "cell_type": "code",
   "execution_count": 41,
   "metadata": {},
   "outputs": [],
   "source": [
    "probe_nb = '1'\n",
    "break_rec = 220\n",
    "str_sensor_spikes, s1_spikes = load_spike_data(mouse_id, dataset,probe_nb,break_rec)\n",
    "\n"
   ]
  },
  {
   "cell_type": "code",
   "execution_count": 42,
   "metadata": {},
   "outputs": [
    {
     "data": {
      "text/plain": [
       "(130, 423052)"
      ]
     },
     "execution_count": 42,
     "metadata": {},
     "output_type": "execute_result"
    }
   ],
   "source": [
    "s1_spikes.shape"
   ]
  },
  {
   "cell_type": "markdown",
   "metadata": {},
   "source": [
    "# Create dataframe"
   ]
  },
  {
   "cell_type": "markdown",
   "metadata": {},
   "source": [
    "Create one trial (row) for each solenoid"
   ]
  },
  {
   "cell_type": "code",
   "execution_count": 43,
   "metadata": {},
   "outputs": [],
   "source": [
    "# Define bin size and window size\n",
    "bin_size = 10  # 10 ms bins\n",
    "window_size = 1000  # 1 second before and after event\n",
    "bins_before_after = window_size // bin_size  # Number of bins before and after event\n",
    "\n",
    "# Dictionary to store the spike data arrays\n",
    "spike_data_dict = {\n",
    "    'm1_spikes': m1_spikes,\n",
    "    'str_motor_spikes': str_motor_spikes,\n",
    "    's1_spikes': s1_spikes,\n",
    "    'str_sensor_spikes': str_sensor_spikes,\n",
    "}\n",
    "\n",
    "list_of_angles = [col for col in df_pose.columns if 'angle' in col]\n",
    "\n",
    "angles_data_dict = {}\n",
    "\n",
    "for column in list_of_angles:\n",
    "    angles_data_dict[column] = df_pose[column].values\n",
    "\n",
    "list_of_keypoints = [col for col in df_pose.columns if '_pos' in col]\n",
    "\n",
    "keypoints_data_dict = {}\n",
    "\n",
    "for column in list_of_keypoints:\n",
    "    #keypoints_data_dict[column] = df_pose[column].values\n",
    "    keypoints_data_dict[column] = np.array(df_pose[column].values.tolist())\n",
    "\n",
    "\n"
   ]
  },
  {
   "cell_type": "code",
   "execution_count": 44,
   "metadata": {},
   "outputs": [],
   "source": [
    "def extract_spike_trial_data(spike_data, start_bin,end_bin):\n",
    "    # Ensure the indices are within bounds\n",
    "    if start_bin >= 0 and end_bin <= spike_data.shape[1]:\n",
    "        trial_data = spike_data[:,start_bin:end_bin]\n",
    "        return trial_data.T\n",
    "    else:\n",
    "        return None"
   ]
  },
  {
   "cell_type": "code",
   "execution_count": 45,
   "metadata": {},
   "outputs": [],
   "source": [
    "def extract_keypoints_trial_data(spike_data, start_bin,end_bin):\n",
    "    # Ensure the indices are within bounds\n",
    "    if start_bin >= 0 and end_bin <= spike_data.shape[0]:\n",
    "        \n",
    "        trial_data = spike_data[start_bin:end_bin,:]\n",
    "        \n",
    "        return trial_data\n",
    "    else:\n",
    "        return None\n",
    "    \n",
    "def extract_angles_trial_data(spike_data, start_bin,end_bin):\n",
    "    # Ensure the indices are within bounds\n",
    "    if start_bin >= 0 and end_bin <= spike_data.shape[0]:\n",
    "        \n",
    "        trial_data = spike_data[start_bin:end_bin]\n",
    "        \n",
    "        return trial_data.flatten()\n",
    "    else:\n",
    "        return None"
   ]
  },
  {
   "cell_type": "code",
   "execution_count": 46,
   "metadata": {},
   "outputs": [
    {
     "data": {
      "text/plain": [
       "array([[ 24.38845974,   3.65970447, 173.68335735],\n",
       "       [ 24.42627136,   2.87943121, 175.14422279],\n",
       "       [ 24.8247875 ,   2.8078708 , 176.13276539],\n",
       "       ...,\n",
       "       [ 22.72903598,   6.68161954, 165.83321047],\n",
       "       [ 23.17629072,   5.59806105, 163.91686242],\n",
       "       [ 23.92909059,   5.13465664, 163.42429653]])"
      ]
     },
     "execution_count": 46,
     "metadata": {},
     "output_type": "execute_result"
    }
   ],
   "source": [
    "np.array(df_pose[column].values.tolist())"
   ]
  },
  {
   "cell_type": "code",
   "execution_count": 47,
   "metadata": {},
   "outputs": [],
   "source": [
    "combined = np.array(keypoints_data_dict['shoulder_center_pos'].tolist())"
   ]
  },
  {
   "cell_type": "code",
   "execution_count": 48,
   "metadata": {},
   "outputs": [
    {
     "data": {
      "text/plain": [
       "array([[ 22.43847171, -12.56307023, 176.3049638 ],\n",
       "       [ 22.47916152, -12.68583276, 176.3343027 ],\n",
       "       [ 22.53669915, -12.76548924, 176.30751652],\n",
       "       ...,\n",
       "       [ 23.1432044 , -12.79724199, 175.9055417 ],\n",
       "       [ 23.04417293, -12.79484199, 175.97885882],\n",
       "       [ 22.92984719, -12.74302014, 176.0842306 ]])"
      ]
     },
     "execution_count": 48,
     "metadata": {},
     "output_type": "execute_result"
    }
   ],
   "source": [
    "combined"
   ]
  },
  {
   "cell_type": "code",
   "execution_count": 49,
   "metadata": {},
   "outputs": [
    {
     "name": "stderr",
     "output_type": "stream",
     "text": [
      "/tmp/ipykernel_888879/3022811579.py:11: DeprecationWarning: Conversion of an array with ndim > 0 to a scalar is deprecated, and will error in future. Ensure you extract a single element from your array before performing this operation. (Deprecated NumPy 1.25.)\n",
      "  end_bin = int(event_bin)\n",
      "/tmp/ipykernel_888879/3022811579.py:68: DeprecationWarning: Conversion of an array with ndim > 0 to a scalar is deprecated, and will error in future. Ensure you extract a single element from your array before performing this operation. (Deprecated NumPy 1.25.)\n",
      "  start_bin = int(event_bin)\n",
      "/tmp/ipykernel_888879/3022811579.py:69: DeprecationWarning: Conversion of an array with ndim > 0 to a scalar is deprecated, and will error in future. Ensure you extract a single element from your array before performing this operation. (Deprecated NumPy 1.25.)\n",
      "  end_bin = int(df_events[df_events['name']=='session_timer'].time_shifted.values // bin_size )\n"
     ]
    }
   ],
   "source": [
    "# Create a dictionary to store the trial data for each spike array and variable\n",
    "trial_data_dict = {key: [] for key in list(spike_data_dict.keys())+ list(angles_data_dict.keys())+ list(keypoints_data_dict.keys())}\n",
    "\n",
    "sol_direction = df_events[df_events['name']=='Sol_direction'].time_shifted.values\n",
    "\n",
    "##### Make the first trial the whole quiet period at the beginning \n",
    "\n",
    "event_time = df_events[df_events['name']=='quiet_period_end'].time_shifted.values\n",
    "event_bin = event_time // bin_size  # Convert event time to bin index\n",
    "start_bin = 0\n",
    "end_bin = int(event_bin)\n",
    "\n",
    "for key, spike_data in spike_data_dict.items():\n",
    "\n",
    "    trial_data = extract_spike_trial_data(spike_data, start_bin, end_bin)\n",
    "    trial_data_dict[key].append(trial_data)\n",
    "\n",
    "for key, keypoint_data in angles_data_dict.items():\n",
    "\n",
    "    trial_data = extract_angles_trial_data(keypoint_data, start_bin, end_bin)\n",
    "    trial_data_dict[key].append(trial_data)\n",
    "\n",
    "for key, keypoint_data in keypoints_data_dict.items():\n",
    "\n",
    "    trial_data = extract_keypoints_trial_data(keypoint_data, start_bin, end_bin)\n",
    "    trial_data_dict[key].append(trial_data)\n",
    "\n",
    "\n",
    "# create one trial for each perturbation \n",
    "\n",
    "for event_time in sol_direction:\n",
    "    event_time = event_time // 10\n",
    "    event_bin = event_time // bin_size  # Convert event time to bin index\n",
    "    start_bin = int(event_bin - bins_before_after)\n",
    "    end_bin = int(event_bin + bins_before_after)\n",
    "\n",
    "    for key, spike_data in spike_data_dict.items():\n",
    "        if isinstance(spike_data, np.ndarray):\n",
    "            trial_data = extract_spike_trial_data(spike_data, start_bin, end_bin)\n",
    "        else:\n",
    "            trial_data = spike_data[event_time]\n",
    "        \n",
    "        if trial_data is not None:\n",
    "            trial_data_dict[key].append(trial_data)\n",
    "    \n",
    "    for key, keypoint_data in angles_data_dict.items():\n",
    "        if isinstance(keypoint_data, np.ndarray):\n",
    "            trial_data = extract_angles_trial_data(keypoint_data, start_bin, end_bin)\n",
    "        else:\n",
    "            trial_data = keypoint_data[event_time]\n",
    "        \n",
    "        if trial_data is not None:\n",
    "            trial_data_dict[key].append(trial_data)\n",
    "\n",
    "    for key, keypoint_data in keypoints_data_dict.items():\n",
    "        if isinstance(keypoint_data, np.ndarray):\n",
    "            trial_data = extract_keypoints_trial_data(keypoint_data, start_bin, end_bin)\n",
    "        else:\n",
    "            trial_data = keypoint_data[event_time]\n",
    "        \n",
    "        if trial_data is not None:\n",
    "            trial_data_dict[key].append(trial_data)\n",
    "    \n",
    "##### Make the last trial the whole quiet period at the beginning \n",
    "\n",
    "event_time = df_events[df_events['name']=='quiet_period_start'].time_shifted.values\n",
    "event_bin = event_time // bin_size  # Convert event time to bin index\n",
    "start_bin = int(event_bin)\n",
    "end_bin = int(df_events[df_events['name']=='session_timer'].time_shifted.values // bin_size )\n",
    "\n",
    "for key, spike_data in spike_data_dict.items():\n",
    "\n",
    "    trial_data = extract_spike_trial_data(spike_data, start_bin, end_bin)\n",
    "    trial_data_dict[key].append(trial_data)\n",
    "\n",
    "for key, keypoint_data in angles_data_dict.items():\n",
    "\n",
    "    trial_data = extract_angles_trial_data(keypoint_data, start_bin, end_bin)\n",
    "    trial_data_dict[key].append(trial_data)\n",
    "\n",
    "for key, keypoint_data in keypoints_data_dict.items():\n",
    "\n",
    "    trial_data = extract_keypoints_trial_data(keypoint_data, start_bin, end_bin)\n",
    "    trial_data_dict[key].append(trial_data)\n",
    "\n",
    "\n",
    "\n",
    "\n",
    "# Create a DataFrame where each row is a trial, with separate columns for each spike array and variable\n",
    "\n",
    "df_trials = pd.DataFrame({'trial_id':range(len(sol_direction) + 2),'event_time':[np.nan] + list(sol_direction) + [np.nan]})\n",
    "\n",
    "df_trials['sol_nb'] = [np.nan] + list(df_events[df_events['name']=='Sol_direction'].value.values) + [np.nan]\n",
    "\n",
    "df_trials['sol_direction'] = [np.nan] + list(df_events[df_events['name']=='Sol_direction'].sol_direction.values) + [np.nan]\n",
    "\n",
    "df_trials['perturbation_bin'] = [np.nan] + list(np.ones(len(sol_direction))*100) + [np.nan]\n",
    "\n",
    "df_trials['trialType']= 'perturbation'\n",
    "\n",
    "df_trials.loc[[0,len(df_trials)-1],'trialType'] = 'spontaneous' # first and last trials are quiet period\n",
    "\n",
    "for key in trial_data_dict.keys():\n",
    "    df_trials[key] = trial_data_dict[key]\n",
    "\n",
    "\n"
   ]
  },
  {
   "cell_type": "code",
   "execution_count": 50,
   "metadata": {},
   "outputs": [
    {
     "data": {
      "text/plain": [
       "array([359999.])"
      ]
     },
     "execution_count": 50,
     "metadata": {},
     "output_type": "execute_result"
    }
   ],
   "source": [
    "event_bin"
   ]
  },
  {
   "cell_type": "code",
   "execution_count": 51,
   "metadata": {},
   "outputs": [
    {
     "data": {
      "text/plain": [
       "<matplotlib.image.AxesImage at 0x7f73f9af4ad0>"
      ]
     },
     "execution_count": 51,
     "metadata": {},
     "output_type": "execute_result"
    },
    {
     "data": {
      "image/png": "[encoded data removed]",
      "text/plain": [
       "<Figure size 640x480 with 1 Axes>"
      ]
     },
     "metadata": {},
     "output_type": "display_data"
    }
   ],
   "source": [
    "plt.imshow(df_trials.str_sensor_spikes[4])"
   ]
  },
  {
   "cell_type": "markdown",
   "metadata": {},
   "source": [
    "# Save files "
   ]
  },
  {
   "cell_type": "code",
   "execution_count": 52,
   "metadata": {},
   "outputs": [],
   "source": [
    "df_trials.to_csv('/data/mouse_data/processed/'+mouse_id+'/'+dataset+'/'+dataset+'_pyaldata.csv')"
   ]
  },
  {
   "cell_type": "code",
   "execution_count": 53,
   "metadata": {},
   "outputs": [],
   "source": [
    "#data_dict = {col: df_trials[col].values for col in df_trials.columns}\n",
    "\n",
    "data_array = df_trials.to_records(index=False)\n",
    "\n",
    "#data_dict = {'df': df_trials.to_dict('list')}\n",
    "\n",
    "# Save the dictionary to a .mat file\n",
    "#file_path = 'data.mat'\n",
    "#scipy.io.savemat(file_path, data_dict)"
   ]
  },
  {
   "cell_type": "code",
   "execution_count": 54,
   "metadata": {},
   "outputs": [],
   "source": [
    "#scipy.io.savemat('/data/mouse_data/processed/'+mouse_id+'/'+dataset+'/'+dataset+'_pyaldata.mat', data_dict)\n",
    "\n",
    "scipy.io.savemat('/data/mouse_data/processed/'+mouse_id+'/'+dataset+'/'+dataset+'_pyaldata.mat', {'df': data_array})"
   ]
  },
  {
   "cell_type": "code",
   "execution_count": null,
   "metadata": {},
   "outputs": [],
   "source": []
  },
  {
   "cell_type": "code",
   "execution_count": null,
   "metadata": {},
   "outputs": [],
   "source": []
  },
  {
   "cell_type": "code",
   "execution_count": null,
   "metadata": {},
   "outputs": [],
   "source": []
  },
  {
   "cell_type": "code",
   "execution_count": null,
   "metadata": {},
   "outputs": [],
   "source": []
  }
 ],
 "metadata": {
  "kernelspec": {
   "display_name": "quake",
   "language": "python",
   "name": "python3"
  },
  "language_info": {
   "codemirror_mode": {
    "name": "ipython",
    "version": 3
   },
   "file_extension": ".py",
   "mimetype": "text/x-python",
   "name": "python",
   "nbconvert_exporter": "python",
   "pygments_lexer": "ipython3",
   "version": "3.12.3"
  }
 },
 "nbformat": 4,
 "nbformat_minor": 2
}
