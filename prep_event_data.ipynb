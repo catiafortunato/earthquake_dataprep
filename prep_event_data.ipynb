{
 "cells": [
  {
   "cell_type": "code",
   "execution_count": 4,
   "metadata": {},
   "outputs": [],
   "source": [
    "from beh_data_import import *"
   ]
  },
  {
   "cell_type": "code",
   "execution_count": 5,
   "metadata": {},
   "outputs": [],
   "source": [
    "dataset = 'M033_2024_04_10_10_02'\n",
    "mouse_id = 'M033'\n",
    "dir_to_behav = '/data/mouse_data/raw/'+mouse_id+'/'+dataset+'/'+dataset+'-2024-04-10-112307.txt'"
   ]
  },
  {
   "cell_type": "code",
   "execution_count": 6,
   "metadata": {},
   "outputs": [
    {
     "name": "stdout",
     "output_type": "stream",
     "text": [
      "Importing data file: M033_2024_04_10_10_02-2024-04-10-112307.txt\n"
     ]
    }
   ],
   "source": [
    "# Import events as dataframe\n",
    "df_behav = session_dataframe(dir_to_behav)"
   ]
  },
  {
   "cell_type": "code",
   "execution_count": 7,
   "metadata": {},
   "outputs": [],
   "source": [
    "# save data frame as csv to processed folder \n",
    "dir_to_save ='/data/mouse_data/processed/'+mouse_id+'/'+dataset+'/'+dataset+'_behav/'"
   ]
  },
  {
   "cell_type": "code",
   "execution_count": 8,
   "metadata": {},
   "outputs": [],
   "source": [
    "df_behav.to_csv( dir_to_save + dataset+'_events.csv')"
   ]
  },
  {
   "cell_type": "code",
   "execution_count": null,
   "metadata": {},
   "outputs": [],
   "source": []
  }
 ],
 "metadata": {
  "kernelspec": {
   "display_name": "quake",
   "language": "python",
   "name": "python3"
  },
  "language_info": {
   "codemirror_mode": {
    "name": "ipython",
    "version": 3
   },
   "file_extension": ".py",
   "mimetype": "text/x-python",
   "name": "python",
   "nbconvert_exporter": "python",
   "pygments_lexer": "ipython3",
   "version": "3.12.3"
  }
 },
 "nbformat": 4,
 "nbformat_minor": 2
}
