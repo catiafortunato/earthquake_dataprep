{
 "cells": [
  {
   "cell_type": "code",
   "execution_count": 6,
   "metadata": {},
   "outputs": [],
   "source": [
    "from beh_data_import import *"
   ]
  },
  {
   "cell_type": "code",
   "execution_count": 7,
   "metadata": {},
   "outputs": [],
   "source": [
    "data_set = 'M030_2024_04_12_09_40'\n",
    "mouse = 'M030'\n",
    "dir_to_behav = '/data/mouse_data/raw/'+mouse+'/'+data_set+'/'+data_set+'-2024-04-12-110857.txt'"
   ]
  },
  {
   "cell_type": "code",
   "execution_count": 8,
   "metadata": {},
   "outputs": [
    {
     "name": "stdout",
     "output_type": "stream",
     "text": [
      "Importing data file: M030_2024_04_12_09_40-2024-04-12-110857.txt\n"
     ]
    }
   ],
   "source": [
    "# Import events as dataframe\n",
    "df_behav = session_dataframe(dir_to_behav)"
   ]
  },
  {
   "cell_type": "code",
   "execution_count": 9,
   "metadata": {},
   "outputs": [],
   "source": [
    "# save data frame as csv to processed folder \n",
    "dir_to_save ='/data/mouse_data/processed/'+mouse+'/'+data_set+'/'+data_set+'_behav/'"
   ]
  },
  {
   "cell_type": "code",
   "execution_count": 10,
   "metadata": {},
   "outputs": [],
   "source": [
    "df_behav.to_csv( dir_to_save + data_set+'_events.csv')"
   ]
  }
 ],
 "metadata": {
  "kernelspec": {
   "display_name": "quake",
   "language": "python",
   "name": "python3"
  },
  "language_info": {
   "codemirror_mode": {
    "name": "ipython",
    "version": 3
   },
   "file_extension": ".py",
   "mimetype": "text/x-python",
   "name": "python",
   "nbconvert_exporter": "python",
   "pygments_lexer": "ipython3",
   "version": "3.12.2"
  }
 },
 "nbformat": 4,
 "nbformat_minor": 2
}
