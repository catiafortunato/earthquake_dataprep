{
 "cells": [
  {
   "cell_type": "code",
   "execution_count": 39,
   "metadata": {},
   "outputs": [],
   "source": [
    "import numpy as np\n",
    "import pandas as pd\n",
    "import sys\n",
    "import matplotlib.pyplot as plt"
   ]
  },
  {
   "cell_type": "markdown",
   "metadata": {},
   "source": [
    "# Load data"
   ]
  },
  {
   "cell_type": "markdown",
   "metadata": {},
   "source": [
    "## Motor Cortex + Striatum (probe 0)"
   ]
  },
  {
   "cell_type": "code",
   "execution_count": 41,
   "metadata": {},
   "outputs": [],
   "source": [
    "dataset = 'M030_2024_04_12_09_40'\n",
    "mouse_id = 'M030'\n",
    "probe = '0'\n",
    "data_dir = '/data/mouse_data/processed/'+mouse_id+'/'+dataset+'/'+dataset+'_ephys/'+dataset+'_g0/'+dataset+'_g0_imec'+probe+'/sorter_output/'\n",
    "sys.path.append(data_dir)\n",
    "import params"
   ]
  },
  {
   "cell_type": "code",
   "execution_count": 42,
   "metadata": {},
   "outputs": [],
   "source": [
    "#ops = np.load(data_dir+'ops.npy', allow_pickle=True).item()\n",
    "camps = pd.read_csv(data_dir+'cluster_Amplitude.tsv', sep='\\t')['Amplitude'].values\n",
    "contam_pct = pd.read_csv(data_dir+'cluster_ContamPct.tsv', sep='\\t')['ContamPct'].values\n",
    "chan_map =  np.load(data_dir+'channel_map.npy')\n",
    "templates =  np.load(data_dir+'templates.npy')\n",
    "chan_best_0 = (templates**2).sum(axis=1).argmax(axis=-1) \n",
    "labels_0 = pd.read_csv(data_dir+'cluster_KSLabel.tsv', sep='\\t') # label for each cluster (can be good, or multiunit activity --mua)\n",
    "#chan_best = chan_map[chan_best]\n",
    "amplitudes = np.load(data_dir+'amplitudes.npy')\n",
    "st = np.load(data_dir+'spike_times.npy')# time when spike happened. to transform into seconds \n",
    "clu = np.load(data_dir+'spike_clusters.npy') # cluster identity of each spike\n",
    "firing_rates = np.unique(clu, return_counts=True)[1] * 30000 / st.max()\n",
    "sys.path.append(data_dir)\n",
    "\n",
    "sample_rate = params.sample_rate\n",
    "#dshift = ops['dshift']\n"
   ]
  },
  {
   "cell_type": "code",
   "execution_count": 43,
   "metadata": {},
   "outputs": [
    {
     "name": "stderr",
     "output_type": "stream",
     "text": [
      "/tmp/ipykernel_2823870/3351783458.py:47: DeprecationWarning: Conversion of an array with ndim > 0 to a scalar is deprecated, and will error in future. Ensure you extract a single element from your array before performing this operation. (Deprecated NumPy 1.25.)\n",
      "  bin_index = int((spike_time - start_time) / bin_size)\n"
     ]
    }
   ],
   "source": [
    "# transform spike times to miliseconds\n",
    "\n",
    "st_milsec = st/sample_rate*1000\n",
    "bin_size = 10 #in milliseconds\n",
    "start_time = 0\n",
    "\n",
    "binned_spikes = bin_spikes(st_milsec, clu, bin_size, start_time=start_time, end_time=None)"
   ]
  },
  {
   "cell_type": "code",
   "execution_count": 75,
   "metadata": {},
   "outputs": [
    {
     "data": {
      "text/plain": [
       "(700, 361811)"
      ]
     },
     "execution_count": 75,
     "metadata": {},
     "output_type": "execute_result"
    }
   ],
   "source": [
    "binned_spikes.shape"
   ]
  },
  {
   "cell_type": "code",
   "execution_count": 44,
   "metadata": {},
   "outputs": [],
   "source": [
    "good_neurons = labels_0[labels_0['KSLabel']=='good']['cluster_id'].values"
   ]
  },
  {
   "cell_type": "code",
   "execution_count": 45,
   "metadata": {},
   "outputs": [
    {
     "data": {
      "image/png": "[encoded data removed]",
      "text/plain": [
       "<Figure size 640x480 with 1 Axes>"
      ]
     },
     "metadata": {},
     "output_type": "display_data"
    }
   ],
   "source": [
    "plt.hist(chan_best_0[good_neurons], bins=150,color='black', alpha=0.8)\n",
    "plt.xlabel('Channel number', fontsize = 16)\n",
    "plt.ylabel('Nb of units', fontsize = 16)\n",
    "\n",
    "break_rec_0 = 198 # channel separating striatum from cortex \n",
    "h_str = 20\n",
    "h_m1 = 15\n",
    "\n",
    "plt.hlines(y=h_str, xmin=0, xmax=break_rec_0-1, linewidth=2,color='darkorange')\n",
    "plt.hlines(y=h_m1, xmin=break_rec_0+1, xmax=385, linewidth=2, color='firebrick')\n",
    "plt.vlines(x=break_rec_0, ymin=0, ymax=30, linewidth=1, alpha=0.2, color='black')\n",
    "plt.text(80, h_str+1, 'Striatum', ha='center', va='bottom', color='darkorange',fontsize=12, weight='bold')\n",
    "plt.text(280, h_m1+1, 'Motor Cortex', ha='center', va='bottom', color='firebrick',fontsize=12,weight='bold')\n",
    "\n",
    "plt.ylim(0,25)\n",
    "\n",
    "plt.savefig('probe_analysis/'+mouse_id+'/'+dataset+'/probe'+probe+'_channel_histogram.pdf')"
   ]
  },
  {
   "cell_type": "markdown",
   "metadata": {},
   "source": [
    "### Select neurons in different regions"
   ]
  },
  {
   "cell_type": "code",
   "execution_count": 46,
   "metadata": {},
   "outputs": [],
   "source": [
    "neurons_str_0 = (chan_best_0<break_rec_0) & ((labels_0['KSLabel']=='good').values)\n",
    "neurons_s1 = (chan_best_0>=break_rec_0) & ((labels_0['KSLabel']=='good').values)"
   ]
  },
  {
   "cell_type": "markdown",
   "metadata": {},
   "source": [
    "## Somatosensory cortex + Striatum (probe 1) "
   ]
  },
  {
   "cell_type": "code",
   "execution_count": 47,
   "metadata": {},
   "outputs": [],
   "source": [
    "probe = '1'\n",
    "data_dir = '/data/mouse_data/processed/'+mouse_id+'/'+dataset+'/'+dataset+'_ephys/'+dataset+'_g0/'+dataset+'_g0_imec'+probe+'/sorter_output/'\n",
    "sys.path.append(data_dir)\n",
    "import params"
   ]
  },
  {
   "cell_type": "code",
   "execution_count": 48,
   "metadata": {},
   "outputs": [],
   "source": [
    "#ops = np.load(data_dir+'ops.npy', allow_pickle=True).item()\n",
    "camps = pd.read_csv(data_dir+'cluster_Amplitude.tsv', sep='\\t')['Amplitude'].values\n",
    "contam_pct = pd.read_csv(data_dir+'cluster_ContamPct.tsv', sep='\\t')['ContamPct'].values\n",
    "chan_map =  np.load(data_dir+'channel_map.npy')\n",
    "templates =  np.load(data_dir+'templates.npy')\n",
    "chan_best_1 = (templates**2).sum(axis=1).argmax(axis=-1) \n",
    "labels_1 = pd.read_csv(data_dir+'cluster_KSLabel.tsv', sep='\\t') # label for each cluster (can be good, or multiunit activity --mua)\n",
    "#chan_best = chan_map[chan_best]\n",
    "amplitudes = np.load(data_dir+'amplitudes.npy')\n",
    "st = np.load(data_dir+'spike_times.npy')# time when spike happened. to transform into seconds \n",
    "clu = np.load(data_dir+'spike_clusters.npy') # cluster identity of each spike\n",
    "firing_rates = np.unique(clu, return_counts=True)[1] * 30000 / st.max()\n",
    "sys.path.append(data_dir)\n",
    "\n",
    "sample_rate = params.sample_rate\n",
    "#dshift = ops['dshift']\n"
   ]
  },
  {
   "cell_type": "code",
   "execution_count": 49,
   "metadata": {},
   "outputs": [
    {
     "name": "stderr",
     "output_type": "stream",
     "text": [
      "/tmp/ipykernel_2823870/3351783458.py:47: DeprecationWarning: Conversion of an array with ndim > 0 to a scalar is deprecated, and will error in future. Ensure you extract a single element from your array before performing this operation. (Deprecated NumPy 1.25.)\n",
      "  bin_index = int((spike_time - start_time) / bin_size)\n"
     ]
    }
   ],
   "source": [
    "# transform spike times to miliseconds\n",
    "\n",
    "st_milsec = st/sample_rate*1000\n",
    "bin_size = 10 #in milliseconds\n",
    "start_time = 0\n",
    "\n",
    "binned_spikes = bin_spikes(st_milsec, clu, bin_size, start_time=start_time, end_time=None)"
   ]
  },
  {
   "cell_type": "code",
   "execution_count": 53,
   "metadata": {},
   "outputs": [
    {
     "data": {
      "text/plain": [
       "(700, 361811)"
      ]
     },
     "execution_count": 53,
     "metadata": {},
     "output_type": "execute_result"
    }
   ],
   "source": [
    "binned_spikes.shape"
   ]
  },
  {
   "cell_type": "code",
   "execution_count": 50,
   "metadata": {},
   "outputs": [],
   "source": [
    "good_neurons = labels_1[labels_1['KSLabel']=='good']['cluster_id'].values"
   ]
  },
  {
   "cell_type": "code",
   "execution_count": 51,
   "metadata": {},
   "outputs": [],
   "source": [
    "good_neurons_binnes = binned_spikes[good_neurons,:]"
   ]
  },
  {
   "cell_type": "code",
   "execution_count": 52,
   "metadata": {},
   "outputs": [
    {
     "data": {
      "image/png": "[encoded data removed]",
      "text/plain": [
       "<Figure size 640x480 with 1 Axes>"
      ]
     },
     "metadata": {},
     "output_type": "display_data"
    }
   ],
   "source": [
    "plt.hist(chan_best_1[good_neurons], bins=100,color='black', alpha=0.8)\n",
    "plt.xlabel('Channel number', fontsize = 16)\n",
    "plt.ylabel('Nb of units', fontsize = 16)\n",
    "\n",
    "break_rec_1 = 170 # channel separating striatum from cortex\n",
    "h_str =  27\n",
    "h_s1 = 30 \n",
    "plt.hlines(y=h_str, xmin=0, xmax=break_rec_1-1, linewidth=2,color='darkorange')\n",
    "plt.hlines(y=h_s1, xmin=break_rec_1+1, xmax=385, linewidth=2, color='firebrick')\n",
    "plt.vlines(x=break_rec_1, ymin=0, ymax=30, linewidth=1, alpha=0.2, color='black')\n",
    "plt.text(80, h_str+1, 'Striatum', ha='center', va='bottom', color='darkorange',fontsize=12, weight='bold')\n",
    "plt.text(283, h_s1+1, 'Somatosensory Cortex', ha='center', va='bottom', color='firebrick',fontsize=12,weight='bold')\n",
    "\n",
    "plt.ylim(0,40)\n",
    "\n",
    "plt.savefig('probe_analysis/'+mouse_id+'/'+dataset+'/probe'+probe+'_channel_histogram.pdf')"
   ]
  },
  {
   "cell_type": "markdown",
   "metadata": {},
   "source": [
    "### Select good neurons for different regions "
   ]
  },
  {
   "cell_type": "code",
   "execution_count": 17,
   "metadata": {},
   "outputs": [],
   "source": [
    "neurons_str_1 = (chan_best_1<break_rec_1) & ((labels_1['KSLabel']=='good').values)\n",
    "neurons_s1 = (chan_best_1>=break_rec_1) & ((labels_1['KSLabel']=='good').values)"
   ]
  },
  {
   "cell_type": "markdown",
   "metadata": {},
   "source": [
    "# Load Pose Estimation "
   ]
  },
  {
   "cell_type": "code",
   "execution_count": 33,
   "metadata": {},
   "outputs": [],
   "source": [
    "dir_to_key_points = '/data/mouse_data/processed/'+mouse_id+'/'+dataset+'/'+dataset+'_pose_estimation/'\n",
    "df_pose = pd.read_csv(dir_to_key_points + dataset+'_3dpts_angles.csv')"
   ]
  },
  {
   "cell_type": "code",
   "execution_count": 72,
   "metadata": {},
   "outputs": [],
   "source": [
    "list_of_angles = [col for col in df_pose.columns if 'angle' in col]\n"
   ]
  },
  {
   "cell_type": "markdown",
   "metadata": {},
   "source": [
    "# Load Event data"
   ]
  },
  {
   "cell_type": "markdown",
   "metadata": {},
   "source": []
  },
  {
   "cell_type": "code",
   "execution_count": 55,
   "metadata": {},
   "outputs": [],
   "source": [
    "dir_to_behav = '/data/mouse_data/processed/'+mouse_id+'/'+dataset+'/'+dataset+'_behav/'"
   ]
  },
  {
   "cell_type": "code",
   "execution_count": 56,
   "metadata": {},
   "outputs": [],
   "source": [
    "df_behav = pd.read_csv(dir_to_behav + dataset+'_events.csv')"
   ]
  },
  {
   "cell_type": "code",
   "execution_count": 57,
   "metadata": {},
   "outputs": [
    {
     "data": {
      "text/html": [
       "<div>\n",
       "<style scoped>\n",
       "    .dataframe tbody tr th:only-of-type {\n",
       "        vertical-align: middle;\n",
       "    }\n",
       "\n",
       "    .dataframe tbody tr th {\n",
       "        vertical-align: top;\n",
       "    }\n",
       "\n",
       "    .dataframe thead th {\n",
       "        text-align: right;\n",
       "    }\n",
       "</style>\n",
       "<table border=\"1\" class=\"dataframe\">\n",
       "  <thead>\n",
       "    <tr style=\"text-align: right;\">\n",
       "      <th></th>\n",
       "      <th>Unnamed: 0</th>\n",
       "      <th>type</th>\n",
       "      <th>name</th>\n",
       "      <th>time</th>\n",
       "      <th>duration</th>\n",
       "      <th>value</th>\n",
       "    </tr>\n",
       "  </thead>\n",
       "  <tbody>\n",
       "    <tr>\n",
       "      <th>6</th>\n",
       "      <td>6</td>\n",
       "      <td>print</td>\n",
       "      <td>before_camera_trigger</td>\n",
       "      <td>4.0</td>\n",
       "      <td>NaN</td>\n",
       "      <td>3</td>\n",
       "    </tr>\n",
       "    <tr>\n",
       "      <th>378</th>\n",
       "      <td>378</td>\n",
       "      <td>print</td>\n",
       "      <td>Sol_direction</td>\n",
       "      <td>305013.0</td>\n",
       "      <td>NaN</td>\n",
       "      <td>5</td>\n",
       "    </tr>\n",
       "    <tr>\n",
       "      <th>384</th>\n",
       "      <td>384</td>\n",
       "      <td>print</td>\n",
       "      <td>Sol_direction</td>\n",
       "      <td>310707.0</td>\n",
       "      <td>NaN</td>\n",
       "      <td>4</td>\n",
       "    </tr>\n",
       "    <tr>\n",
       "      <th>391</th>\n",
       "      <td>391</td>\n",
       "      <td>print</td>\n",
       "      <td>Sol_direction</td>\n",
       "      <td>316673.0</td>\n",
       "      <td>NaN</td>\n",
       "      <td>2</td>\n",
       "    </tr>\n",
       "    <tr>\n",
       "      <th>395</th>\n",
       "      <td>395</td>\n",
       "      <td>print</td>\n",
       "      <td>Sol_direction</td>\n",
       "      <td>324527.0</td>\n",
       "      <td>NaN</td>\n",
       "      <td>5</td>\n",
       "    </tr>\n",
       "  </tbody>\n",
       "</table>\n",
       "</div>"
      ],
      "text/plain": [
       "     Unnamed: 0   type                   name      time  duration value\n",
       "6             6  print  before_camera_trigger       4.0       NaN     3\n",
       "378         378  print          Sol_direction  305013.0       NaN     5\n",
       "384         384  print          Sol_direction  310707.0       NaN     4\n",
       "391         391  print          Sol_direction  316673.0       NaN     2\n",
       "395         395  print          Sol_direction  324527.0       NaN     5"
      ]
     },
     "execution_count": 57,
     "metadata": {},
     "output_type": "execute_result"
    }
   ],
   "source": [
    "df_behav[df_behav['type']=='print'].head()"
   ]
  },
  {
   "cell_type": "code",
   "execution_count": 58,
   "metadata": {},
   "outputs": [
    {
     "data": {
      "text/plain": [
       "array(['Experiment name ', 'Setup ID', 'Sol_direction', 'Start date',\n",
       "       'Subject ID', 'Task file hash', 'Task name',\n",
       "       'before_camera_trigger', 'motion', 'quiet_period_end',\n",
       "       'quiet_period_start', 'session_end', 'session_middle',\n",
       "       'session_start', 'session_timer', 'trial_off', 'trial_on'],\n",
       "      dtype=object)"
      ]
     },
     "execution_count": 58,
     "metadata": {},
     "output_type": "execute_result"
    }
   ],
   "source": [
    "np.unique(df_behav['name'].values)"
   ]
  },
  {
   "cell_type": "code",
   "execution_count": 73,
   "metadata": {},
   "outputs": [
    {
     "data": {
      "text/plain": [
       "array([ 305013.,  310707.,  316673.,  324527.,  333237.,  343157.,\n",
       "        347777.,  355703.,  359447.,  362797.,  367737.,  379415.,\n",
       "        384225.,  396177.,  407536.,  408803.,  419483.,  431573.,\n",
       "        443447.,  453193.,  454637.,  463637.,  467807.,  477745.,\n",
       "        482987.,  485247.,  496366.,  504816.,  515435.,  522593.,\n",
       "        532127.,  536934.,  547934.,  552994.,  557634.,  566287.,\n",
       "        576114.,  582057.,  588044.,  598487.,  605285.,  616044.,\n",
       "        628097.,  640327.,  643003.,  650185.,  655357.,  661777.,\n",
       "        667046.,  672577.,  676957.,  679386.,  687425.,  696956.,\n",
       "        707685.,  712896.,  720327.,  722283.,  728313.,  733027.,\n",
       "        742003.,  751137.,  752997.,  759935.,  763854.,  773144.,\n",
       "        784307.,  794635.,  804117.,  810667.,  814654.,  818177.,\n",
       "        821037.,  825673.,  835067.,  843315.,  846963.,  856417.,\n",
       "        859527.,  866683.,  870767.,  874397.,  884627.,  897203.,\n",
       "        908644.,  914437.,  924074.,  930543.,  939513.,  946467.,\n",
       "        957224.,  967097.,  970755.,  979055.,  989517.,  992516.,\n",
       "        997507.,  999765., 1002606., 1005084., 1013917., 1016107.,\n",
       "       1028125., 1038927., 1048735., 1053776., 1061817., 1069337.,\n",
       "       1078556., 1089577., 1094707., 1103076., 1112483., 1123587.,\n",
       "       1127537., 1130304., 1140783., 1145477., 1148597., 1151477.,\n",
       "       1154835., 1157057., 1159833., 1163205., 1166717., 1172987.,\n",
       "       1184335., 1193597., 1197377., 1205233., 1215087., 1227047.,\n",
       "       1236723., 1244787., 1252387., 1261907., 1267645., 1273843.,\n",
       "       1277947., 1286035., 1295703., 1306793., 1315517., 1327036.,\n",
       "       1329263., 1337067., 1338687., 1343297., 1349357., 1353715.,\n",
       "       1363943., 1369866., 1378527., 1389257., 1399527., 1405587.,\n",
       "       1415037., 1419247., 1429265., 1439187., 1443705., 1454375.,\n",
       "       1459457., 1466764., 1473553., 1484355., 1493807., 1499497.,\n",
       "       1502427., 1513504., 1525267., 1534285., 1542034., 1547225.,\n",
       "       1551644., 1559674., 1566143., 1571087., 1579607., 1583353.,\n",
       "       1594236., 1601107., 1611304., 1618175., 1630347., 1639757.,\n",
       "       1643797., 1646067., 1648416., 1650405., 1660123., 1663777.,\n",
       "       1673817., 1678143., 1685307., 1694407., 1706557., 1711626.,\n",
       "       1720424., 1725937., 1738003., 1748094., 1753715., 1760187.,\n",
       "       1772977., 1780346., 1786567., 1796977., 1805384., 1809724.,\n",
       "       1817484., 1825837., 1831387., 1843255., 1852817., 1865295.,\n",
       "       1872353., 1879377., 1890363., 1901624., 1909677., 1921817.,\n",
       "       1924933., 1934285., 1940925., 1944587., 1948163., 1959314.,\n",
       "       1967843., 1974983., 1977683., 1987027., 1998324., 2006976.,\n",
       "       2010623., 2021577., 2032373., 2034873., 2037927., 2045757.,\n",
       "       2051735., 2056323., 2069086., 2070635., 2076307., 2088517.,\n",
       "       2097217., 2107007., 2113723., 2120377., 2131177., 2141203.,\n",
       "       2150093., 2154177., 2162447., 2166377., 2172035., 2181217.,\n",
       "       2191674., 2197466., 2206166., 2209747., 2218697., 2226787.,\n",
       "       2236476., 2241257., 2248296., 2255394., 2257413., 2269485.,\n",
       "       2271913., 2279387., 2284953., 2295337., 2297133., 2304395.,\n",
       "       2315394., 2320725., 2325463., 2329705., 2334367., 2341596.,\n",
       "       2345347., 2354147., 2364026., 2374543., 2379057., 2388177.,\n",
       "       2396584., 2400437., 2403145., 2406617., 2417817., 2421685.,\n",
       "       2428567., 2433247., 2440157., 2446255., 2449214., 2456215.,\n",
       "       2464624., 2475684., 2485134., 2489803., 2497043., 2507927.,\n",
       "       2512017., 2517447., 2526907., 2528377., 2539057., 2546083.,\n",
       "       2548366., 2558687., 2563337., 2569597., 2572247., 2575354.,\n",
       "       2577783., 2581467., 2591393., 2600727., 2612487., 2620355.,\n",
       "       2631077., 2635457., 2644557., 2647408., 2657957., 2666775.,\n",
       "       2674587., 2676273., 2682163., 2693126., 2700387., 2705525.,\n",
       "       2716545., 2721837., 2726787., 2733673., 2741963., 2752467.,\n",
       "       2764715., 2768035., 2779453., 2786276., 2793387., 2801177.,\n",
       "       2808234., 2812347., 2815264., 2820673., 2827823., 2839265.,\n",
       "       2851743., 2859327., 2870453., 2881987., 2887757., 2895336.,\n",
       "       2905864., 2915697., 2923277., 2929063., 2937673., 2947593.,\n",
       "       2955867., 2957837., 2965107., 2975323., 2986507., 2998243.,\n",
       "       3010463., 3017874., 3027333., 3037853., 3047134., 3057767.,\n",
       "       3064843., 3075636., 3077877., 3085957., 3092023., 3101717.,\n",
       "       3112016., 3115773., 3120077., 3128145., 3129444., 3135497.,\n",
       "       3144247., 3155665., 3161544., 3173723., 3177653., 3190667.,\n",
       "       3194345., 3198317., 3202163., 3213517., 3221367., 3231197.,\n",
       "       3240107., 3251687., 3258787., 3262737., 3275067., 3277873.,\n",
       "       3282273., 3289074.])"
      ]
     },
     "execution_count": 73,
     "metadata": {},
     "output_type": "execute_result"
    }
   ],
   "source": [
    "df_behav[df_behav['name']=='Sol_direction'].time.values"
   ]
  },
  {
   "cell_type": "code",
   "execution_count": 65,
   "metadata": {},
   "outputs": [],
   "source": [
    "# Subtract before camera trigger so that time 0 equals the first camera trigger :) \n",
    "\n",
    "df_behav['time_shifted'] = df_behav['time'] - df_behav[df_behav['name']=='before_camera_trigger'].time.values"
   ]
  },
  {
   "cell_type": "code",
   "execution_count": 68,
   "metadata": {},
   "outputs": [
    {
     "data": {
      "text/html": [
       "<div>\n",
       "<style scoped>\n",
       "    .dataframe tbody tr th:only-of-type {\n",
       "        vertical-align: middle;\n",
       "    }\n",
       "\n",
       "    .dataframe tbody tr th {\n",
       "        vertical-align: top;\n",
       "    }\n",
       "\n",
       "    .dataframe thead th {\n",
       "        text-align: right;\n",
       "    }\n",
       "</style>\n",
       "<table border=\"1\" class=\"dataframe\">\n",
       "  <thead>\n",
       "    <tr style=\"text-align: right;\">\n",
       "      <th></th>\n",
       "      <th>Unnamed: 0</th>\n",
       "      <th>type</th>\n",
       "      <th>name</th>\n",
       "      <th>time</th>\n",
       "      <th>duration</th>\n",
       "      <th>value</th>\n",
       "      <th>time_shifted</th>\n",
       "    </tr>\n",
       "  </thead>\n",
       "  <tbody>\n",
       "    <tr>\n",
       "      <th>0</th>\n",
       "      <td>0</td>\n",
       "      <td>info</td>\n",
       "      <td>Experiment name</td>\n",
       "      <td>NaN</td>\n",
       "      <td>NaN</td>\n",
       "      <td>run_task</td>\n",
       "      <td>NaN</td>\n",
       "    </tr>\n",
       "    <tr>\n",
       "      <th>1</th>\n",
       "      <td>1</td>\n",
       "      <td>info</td>\n",
       "      <td>Task name</td>\n",
       "      <td>NaN</td>\n",
       "      <td>NaN</td>\n",
       "      <td>earthquake-long</td>\n",
       "      <td>NaN</td>\n",
       "    </tr>\n",
       "    <tr>\n",
       "      <th>2</th>\n",
       "      <td>2</td>\n",
       "      <td>info</td>\n",
       "      <td>Task file hash</td>\n",
       "      <td>NaN</td>\n",
       "      <td>NaN</td>\n",
       "      <td>397468066</td>\n",
       "      <td>NaN</td>\n",
       "    </tr>\n",
       "    <tr>\n",
       "      <th>3</th>\n",
       "      <td>3</td>\n",
       "      <td>info</td>\n",
       "      <td>Setup ID</td>\n",
       "      <td>NaN</td>\n",
       "      <td>NaN</td>\n",
       "      <td>COM9</td>\n",
       "      <td>NaN</td>\n",
       "    </tr>\n",
       "    <tr>\n",
       "      <th>4</th>\n",
       "      <td>4</td>\n",
       "      <td>info</td>\n",
       "      <td>Subject ID</td>\n",
       "      <td>NaN</td>\n",
       "      <td>NaN</td>\n",
       "      <td>M030_2024_04_12_09_40</td>\n",
       "      <td>NaN</td>\n",
       "    </tr>\n",
       "    <tr>\n",
       "      <th>...</th>\n",
       "      <td>...</td>\n",
       "      <td>...</td>\n",
       "      <td>...</td>\n",
       "      <td>...</td>\n",
       "      <td>...</td>\n",
       "      <td>...</td>\n",
       "      <td>...</td>\n",
       "    </tr>\n",
       "    <tr>\n",
       "      <th>7178</th>\n",
       "      <td>7178</td>\n",
       "      <td>event</td>\n",
       "      <td>motion</td>\n",
       "      <td>3597738.0</td>\n",
       "      <td>NaN</td>\n",
       "      <td>NaN</td>\n",
       "      <td>3597734.0</td>\n",
       "    </tr>\n",
       "    <tr>\n",
       "      <th>7179</th>\n",
       "      <td>7179</td>\n",
       "      <td>event</td>\n",
       "      <td>motion</td>\n",
       "      <td>3598418.0</td>\n",
       "      <td>NaN</td>\n",
       "      <td>NaN</td>\n",
       "      <td>3598414.0</td>\n",
       "    </tr>\n",
       "    <tr>\n",
       "      <th>7180</th>\n",
       "      <td>7180</td>\n",
       "      <td>event</td>\n",
       "      <td>motion</td>\n",
       "      <td>3599058.0</td>\n",
       "      <td>NaN</td>\n",
       "      <td>NaN</td>\n",
       "      <td>3599054.0</td>\n",
       "    </tr>\n",
       "    <tr>\n",
       "      <th>7181</th>\n",
       "      <td>7181</td>\n",
       "      <td>event</td>\n",
       "      <td>motion</td>\n",
       "      <td>3599818.0</td>\n",
       "      <td>NaN</td>\n",
       "      <td>NaN</td>\n",
       "      <td>3599814.0</td>\n",
       "    </tr>\n",
       "    <tr>\n",
       "      <th>7182</th>\n",
       "      <td>7182</td>\n",
       "      <td>event</td>\n",
       "      <td>session_timer</td>\n",
       "      <td>3600000.0</td>\n",
       "      <td>NaN</td>\n",
       "      <td>NaN</td>\n",
       "      <td>3599996.0</td>\n",
       "    </tr>\n",
       "  </tbody>\n",
       "</table>\n",
       "<p>7183 rows × 7 columns</p>\n",
       "</div>"
      ],
      "text/plain": [
       "      Unnamed: 0   type              name       time  duration  \\\n",
       "0              0   info  Experiment name         NaN       NaN   \n",
       "1              1   info         Task name        NaN       NaN   \n",
       "2              2   info    Task file hash        NaN       NaN   \n",
       "3              3   info          Setup ID        NaN       NaN   \n",
       "4              4   info        Subject ID        NaN       NaN   \n",
       "...          ...    ...               ...        ...       ...   \n",
       "7178        7178  event            motion  3597738.0       NaN   \n",
       "7179        7179  event            motion  3598418.0       NaN   \n",
       "7180        7180  event            motion  3599058.0       NaN   \n",
       "7181        7181  event            motion  3599818.0       NaN   \n",
       "7182        7182  event     session_timer  3600000.0       NaN   \n",
       "\n",
       "                      value  time_shifted  \n",
       "0                  run_task           NaN  \n",
       "1           earthquake-long           NaN  \n",
       "2                 397468066           NaN  \n",
       "3                      COM9           NaN  \n",
       "4     M030_2024_04_12_09_40           NaN  \n",
       "...                     ...           ...  \n",
       "7178                    NaN     3597734.0  \n",
       "7179                    NaN     3598414.0  \n",
       "7180                    NaN     3599054.0  \n",
       "7181                    NaN     3599814.0  \n",
       "7182                    NaN     3599996.0  \n",
       "\n",
       "[7183 rows x 7 columns]"
      ]
     },
     "execution_count": 68,
     "metadata": {},
     "output_type": "execute_result"
    }
   ],
   "source": [
    "df_behav"
   ]
  },
  {
   "cell_type": "code",
   "execution_count": 74,
   "metadata": {},
   "outputs": [],
   "source": [
    "bin_size = 10 # 10 ms bins\n",
    "\n",
    "window_size = 1000 # 1 second before and after event\n",
    "\n",
    "bins_before_after = window_size // bin_size"
   ]
  },
  {
   "cell_type": "code",
   "execution_count": null,
   "metadata": {},
   "outputs": [],
   "source": [
    "# Create an empty DataFrame to store the trials\n",
    "trials = []\n",
    "\n",
    "for event_time in df_behav[df_behav['name']=='Sol_direction'].time.values:\n",
    "    event_bin = event_time // bin_size  # Convert event time to bin index\n",
    "    start_bin = event_bin - bins_before_after\n",
    "    end_bin = event_bin + bins_before_after + 1  # Include the event bin\n",
    "    \n",
    "    # Ensure the indices are within bounds\n",
    "    if start_bin >= 0 and end_bin <= m1_spikes.shape[0]:\n",
    "        trial_data = m1_spikes[start_bin:end_bin]\n",
    "        trials.append(trial_data.flatten())\n",
    "\n",
    "# Create a DataFrame where each row is a trial\n",
    "df_trials = pd.DataFrame(trials, index=sol_direction)\n",
    "\n",
    "# Display the DataFrame\n",
    "df_trials"
   ]
  }
 ],
 "metadata": {
  "kernelspec": {
   "display_name": "quake",
   "language": "python",
   "name": "python3"
  },
  "language_info": {
   "codemirror_mode": {
    "name": "ipython",
    "version": 3
   },
   "file_extension": ".py",
   "mimetype": "text/x-python",
   "name": "python",
   "nbconvert_exporter": "python",
   "pygments_lexer": "ipython3",
   "version": "3.12.2"
  }
 },
 "nbformat": 4,
 "nbformat_minor": 4
}
